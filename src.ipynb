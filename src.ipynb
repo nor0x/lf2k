{
 "cells": [
  {
   "cell_type": "markdown",
   "metadata": {},
   "source": [
    "# Little Fighter 2K\n",
    "### snippets to upscale and enhance game assets\n",
    "### follow my progress on my [https://johnnys.news/2024/01/little-fighter-2k](https://johnnys.news/2024/01/little-fighter-2k)"
   ]
  },
  {
   "cell_type": "markdown",
   "metadata": {},
   "source": [
    "### get a hold to all sprite images"
   ]
  },
  {
   "cell_type": "code",
   "execution_count": 4,
   "metadata": {
    "dotnet_interactive": {
     "language": "csharp"
    },
    "polyglot_notebook": {
     "kernelName": "csharp"
    },
    "vscode": {
     "languageId": "polyglot-notebook"
    }
   },
   "outputs": [
    {
     "data": {
      "text/html": [
       "<div><div></div><div></div><div><strong>Installed Packages</strong><ul><li><span>SkiaSharp, 2.88.6</span></li></ul></div></div>"
      ]
     },
     "metadata": {},
     "output_type": "display_data"
    },
    {
     "data": {
      "text/plain": [
       "Loading extensions from `C:\\Users\\joach\\.nuget\\packages\\skiasharp\\2.88.6\\interactive-extensions\\dotnet\\SkiaSharp.DotNet.Interactive.dll`"
      ]
     },
     "metadata": {},
     "output_type": "display_data"
    }
   ],
   "source": [
    "#r \"nuget: SkiaSharp, 2.88.6\"\n",
    "\n",
    "using System.IO;\n",
    "using System.Linq;\n",
    "using System.Diagnostics;\n",
    "using SkiaSharp;\n",
    "\n",
    "var allSpriteFiles = Directory.GetFiles(basePath + @\"LittleFighter\\sprite\", \"*.bmp\", SearchOption.AllDirectories);\n",
    "var allDatFiles = Directory.GetFiles(basePath + @\"LittleFighter\\data\", \"*.dat\", SearchOption.AllDirectories);\n",
    "\n",
    "var basePath = @\"D:\\\\Dev\\\\LittleFighter2k\\\\\";"
   ]
  },
  {
   "cell_type": "markdown",
   "metadata": {},
   "source": [
    "### Encryption / Decryption for .dat files"
   ]
  },
  {
   "cell_type": "code",
   "execution_count": 5,
   "metadata": {
    "dotnet_interactive": {
     "language": "csharp"
    },
    "polyglot_notebook": {
     "kernelName": "csharp"
    },
    "vscode": {
     "languageId": "polyglot-notebook"
    }
   },
   "outputs": [],
   "source": [
    "string key = \"odBearBecauseHeIsVeryGoodSiuHungIsAGo\";\n",
    "\n",
    "unsafe string Decrypt(string filepath)\n",
    "{\n",
    "    int dec, pass;\n",
    "    byte[] buffer = File.ReadAllBytes(filepath);\n",
    "    byte[] decryptedtext = new byte[dec = Math.Max(0, buffer.Length - 123)];\n",
    "    byte* password = stackalloc byte[pass = key.Length];\n",
    "\n",
    "    if (pass == 0) return Encoding.ASCII.GetString(buffer);\n",
    "\n",
    "    for (int i = 0; i < pass; i++)\n",
    "        password[i] = (byte)key[i];\n",
    "\n",
    "    fixed (byte* b = buffer, d = decryptedtext)\n",
    "    {\n",
    "        for (int i = 0, j = 123; i < dec; i++, j++)\n",
    "            d[i] = (byte)(b[j] - password[i % pass]);\n",
    "    }\n",
    "\n",
    "    return Encoding.ASCII.GetString(decryptedtext);\n",
    "}"
   ]
  },
  {
   "cell_type": "markdown",
   "metadata": {},
   "source": [
    "### decrypt .dat files to .txt"
   ]
  },
  {
   "cell_type": "code",
   "execution_count": 6,
   "metadata": {
    "dotnet_interactive": {
     "language": "csharp"
    },
    "polyglot_notebook": {
     "kernelName": "csharp"
    },
    "vscode": {
     "languageId": "polyglot-notebook"
    }
   },
   "outputs": [],
   "source": [
    "allDatFiles.ToList().ForEach(file =>\n",
    "{\n",
    "    var text = Decrypt(file);\n",
    "    var txtFile = Path.GetFileNameWithoutExtension(file) + \".txt\";\n",
    "    if(Directory.Exists(\"txtdata\") == false)\n",
    "    {\n",
    "        Directory.CreateDirectory(\"txtdata\");\n",
    "    }\n",
    "    File.WriteAllText(Path.Combine(\"txtdata\", txtFile), text);\n",
    "});"
   ]
  },
  {
   "cell_type": "markdown",
   "metadata": {},
   "source": [
    "### extract sprites#\n",
    "extracted files will be placed in the input folder and named as follows:\n",
    "```\n",
    "spritesheetfile____row-column.png\n",
    "```\n"
   ]
  },
  {
   "cell_type": "code",
   "execution_count": 7,
   "metadata": {
    "dotnet_interactive": {
     "language": "csharp"
    },
    "polyglot_notebook": {
     "kernelName": "csharp"
    },
    "vscode": {
     "languageId": "polyglot-notebook"
    }
   },
   "outputs": [
    {
     "name": "stdout",
     "output_type": "stream",
     "text": [
      "Done\r\n"
     ]
    }
   ],
   "source": [
    "allDatFiles.ToList().ForEach(file =>\n",
    "{    \n",
    "    var txtFile = Path.GetFileNameWithoutExtension(file) + \".txt\";\n",
    "    var lines = File.ReadAllLines(Path.Combine(\"txtdata\", txtFile));\n",
    "\n",
    "    var files = lines.Where(l => l.StartsWith(\"file(\")).ToList();\n",
    "    var border = 1.0f;\n",
    "    for (int i = 0; i < files.Count; i++)\n",
    "    {\n",
    "        var fileLine = files[i];\n",
    "        var fileLineParts = fileLine.Split(\" \", StringSplitOptions.RemoveEmptyEntries);\n",
    "        var fileName = fileLineParts[1];\n",
    "        var width = int.Parse(fileLineParts[3]);\n",
    "        var height = int.Parse(fileLineParts[5]);\n",
    "        var col = int.Parse(fileLineParts[7]);\n",
    "        var row = int.Parse(fileLineParts[9]);\n",
    "        var spriteFile = allSpriteFiles.FirstOrDefault(f => f.Contains(fileName));\n",
    "        if (spriteFile == null)\n",
    "        {\n",
    "            Console.WriteLine(\"Cannot find sprite file for \" + fileName);\n",
    "            continue;\n",
    "        }\n",
    "        var sprite = SKBitmap.Decode(spriteFile);\n",
    "        var spriteWidth = sprite.Width / col;\n",
    "        var spriteHeight = sprite.Height / row;\n",
    "\n",
    "        spriteWidth = width;\n",
    "        spriteHeight = height;\n",
    "        for (int r = 0; r < row; r++)\n",
    "        {\n",
    "            for (int c = 0; c < col; c++)\n",
    "            {\n",
    "\n",
    "                var rect = new SKRect(c * spriteWidth + c * border, r * spriteHeight + r * border, (c + 1) * spriteWidth + c * border, (r + 1) * spriteHeight + r * border);\n",
    "            \n",
    "                var spriteRect = new SKRect(0, 0, spriteWidth, spriteHeight);\n",
    "                var spriteBitmap = new SKBitmap(spriteWidth, spriteHeight);\n",
    "                using (var canvas = new SKCanvas(spriteBitmap))\n",
    "                {\n",
    "                    canvas.Clear(SKColors.Black);\n",
    "                    canvas.DrawBitmap(sprite, rect, new SKRect(0, 0, spriteWidth, spriteHeight));\n",
    "                }\n",
    "                var spritePngFile = Path.GetFileNameWithoutExtension(fileName) + \"____\" + r + \"-\" + c + \".png\";\n",
    "\n",
    "                if (Directory.Exists(\"input\") == false)\n",
    "                {\n",
    "                    Directory.CreateDirectory(\"input\");\n",
    "                }\n",
    "                using (var fs = File.OpenWrite(Path.Combine(\"input\", spritePngFile)))\n",
    "                {\n",
    "                    spriteBitmap.Encode(SKEncodedImageFormat.Png, 100).SaveTo(fs);\n",
    "                }\n",
    "            }\n",
    "        }\n",
    "    }\n",
    "\n",
    "});\n",
    "Console.WriteLine(\"Done\");"
   ]
  },
  {
   "cell_type": "markdown",
   "metadata": {},
   "source": [
    "### get other game assets"
   ]
  },
  {
   "cell_type": "code",
   "execution_count": 8,
   "metadata": {
    "dotnet_interactive": {
     "language": "csharp"
    },
    "polyglot_notebook": {
     "kernelName": "csharp"
    },
    "vscode": {
     "languageId": "polyglot-notebook"
    }
   },
   "outputs": [],
   "source": [
    "//get character images and faces\n",
    "var characters = Directory.EnumerateFiles(@\"LittleFighter\\sprite\", \"*.bmp\", SearchOption.AllDirectories).Where(f => f.EndsWith(\"_s.bmp\") || f.EndsWith(\"_f.bmp\") || f == \"face.bmp\" || f == \"s.bmp\").ToList();\n",
    "characters.ForEach(character =>\n",
    "{\n",
    "   var appendix = character.Contains(\"template\") ? \"sprite_template_\" : \"sprite_\";\n",
    "   File.Copy(character, Path.Combine(\"input\", appendix  + Path.GetFileNameWithoutExtension(Path.GetDirectoryName(character)) + \"_\" + Path.GetFileName(character).Replace(\".bmp\", \".png\")), true);\n",
    "});\n",
    "\n",
    "var bgs = Directory.GetFiles(basePath + @\"LittleFighter\\bg\", \"*.bmp\", SearchOption.AllDirectories).ToList();\n",
    "bgs.ForEach(bg =>\n",
    "{\n",
    "   var appendix = bg.Contains(\"template\") ? \"bg_template_\" : \"bg_sys_\";\n",
    "   File.Copy(bg, Path.Combine(\"input\", appendix + Path.GetFileNameWithoutExtension(Path.GetDirectoryName(bg)) + \"_\" + Path.GetFileName(bg).Replace(\".bmp\", \".png\")), true);\n",
    "});"
   ]
  },
  {
   "cell_type": "markdown",
   "metadata": {},
   "source": [
    "### upscale with realesrgan-ncnn-vulkan"
   ]
  },
  {
   "cell_type": "code",
   "execution_count": null,
   "metadata": {
    "dotnet_interactive": {
     "language": "pwsh"
    },
    "polyglot_notebook": {
     "kernelName": "pwsh"
    },
    "vscode": {
     "languageId": "polyglot-notebook"
    }
   },
   "outputs": [],
   "source": [
    "#download realesrgan from https://github.com/upscayl/upscayl-ncnn/releases/download/2023.12.06/realesrgan-ncnn-vulkan-2023.12.06-windows.zip\n",
    "Invoke-WebRequest -Uri \"https://github.com/upscayl/upscayl-ncnn/releases/download/2023.12.06/realesrgan-ncnn-vulkan-2023.12.06-windows.zip\" -OutFile \"realesrgan-ncnn-vulkan-2023.12.06-windows.zip\"\n",
    "\n",
    "#unzip\n",
    "Expand-Archive -Path \"realesrgan-ncnn-vulkan-2023.12.06-windows.zip\" -DestinationPath \"realesrgan-ncnn-vulkan\"\n",
    "\n",
    "# get model from https://github.com/upscayl/custom-models and put it in the models folder\n",
    "\n",
    "# upscale with different models\n",
    "#./realesrgan-ncnn-vulkan/realesrgan-ncnn-vulkan.exe -i input -o ./output/general -m ./realesrgan-ncnn-vulkan-2023.12.06-windows/models -n RealESRGAN_General_x4_v3 -v\n",
    "#./realesrgan-ncnn-vulkan/realesrgan-ncnn-vulkan.exe -i input -o ./output/x4plus -m ./realesrgan-ncnn-vulkan-2023.12.06-windows/models -n realesrgan-x4plus -v\n",
    "#./realesrgan-ncnn-vulkan/realesrgan-ncnn-vulkan.exe -i input -o ./output/x4plus-anime -m ./realesrgan-ncnn-vulkan-2023.12.06-windows/models -n realesrgan-x4plus-anime -v\n",
    "#./realesrgan-ncnn-vulkan/realesrgan-ncnn-vulkan.exe -i input -o ./output/remacri -m ./realesrgan-ncnn-vulkan-2023.12.06-windows/models -n remacri -v\n",
    "#./realesrgan-ncnn-vulkan/realesrgan-ncnn-vulkan.exe -i input -o ./output/ultrasharp -m ./realesrgan-ncnn-vulkan-2023.12.06-windows/models -n ultrasharp -v\n",
    "#./realesrgan-ncnn-vulkan/realesrgan-ncnn-vulkan.exe -i input -o ./output/ultramix-balanced -m ./realesrgan-ncnn-vulkan-2023.12.06-windows/models -n ultramix_balanced -v\n",
    "\n",
    "# test for double upscale\n",
    "#./realesrgan-ncnn-vulkan/realesrgan-ncnn-vulkan.exe -i input -o ./temp -m ./realesrgan-ncnn-vulkan-2023.12.06-windows/models -n ultrasharp -v\n",
    "#./realesrgan-ncnn-vulkan/realesrgan-ncnn-vulkan.exe -i temp -o ./output -m ./realesrgan-ncnn-vulkan-2023.12.06-windows/models -n ultrasharp -v\n",
    "\n",
    "mkdir output\n",
    "\n",
    "# upscale sprites\n",
    "./realesrgan-ncnn-vulkan/realesrgan-ncnn-vulkan.exe -i input -o output -m ./realesrgan-ncnn-vulkan-2023.12.06-windows/models -n ultrasharp -v\n"
   ]
  },
  {
   "cell_type": "markdown",
   "metadata": {},
   "source": [
    "### build valid images collection (ignore completely black images and #010000)"
   ]
  },
  {
   "cell_type": "code",
   "execution_count": null,
   "metadata": {
    "dotnet_interactive": {
     "language": "csharp"
    },
    "polyglot_notebook": {
     "kernelName": "csharp"
    },
    "vscode": {
     "languageId": "polyglot-notebook"
    }
   },
   "outputs": [],
   "source": [
    "var validImages = new List<string>();\n",
    "\n",
    "var almostBlack = SKColor.Parse(\"#010000\");\n",
    "foreach (var file in validFiles)\n",
    "{\n",
    "    using var bitmap = SKBitmap.Decode(file);\n",
    "    var isBlack = true;\n",
    "    foreach (var pixel in bitmap.Pixels)\n",
    "    {\n",
    "        if (pixel == SKColors.Black || pixel == almostBlack)\n",
    "        {\n",
    "            continue;\n",
    "        }\n",
    "        isBlack = false;\n",
    "    }\n",
    "    if (!isBlack)\n",
    "    {\n",
    "        validImages.Add(file);\n",
    "    }\n",
    "}"
   ]
  },
  {
   "cell_type": "markdown",
   "metadata": {},
   "source": [
    "### use Replicate https://replicate.com/lucataco/demofusion-enhance"
   ]
  },
  {
   "cell_type": "code",
   "execution_count": 3,
   "metadata": {
    "dotnet_interactive": {
     "language": "csharp"
    },
    "polyglot_notebook": {
     "kernelName": "csharp"
    },
    "vscode": {
     "languageId": "polyglot-notebook"
    }
   },
   "outputs": [
    {
     "ename": "Error",
     "evalue": "(11,5): error CS1002: ; expected",
     "output_type": "error",
     "traceback": [
      "(11,5): error CS1002: ; expected"
     ]
    }
   ],
   "source": [
    "var validFiles = Directory.GetFiles(basePath + \"valid\", \"*.png\", SearchOption.AllDirectories).ToList();\n",
    "var existing = Directory.GetFiles(basePath + \"replicate\\\\output\", \"*.png\", SearchOption.AllDirectories).ToList();\n",
    "var predictions = new List<(string filename, string id)>();\n",
    "var output = new List<(string result, string file)>();\n",
    "\n",
    "validFiles = validFiles.Where(x => !existing.Any(y => Path.GetFileName(y) == Path.GetFileName(x))).ToList();\n",
    "\n",
    "validFiles = validFiles.Take(30).ToList();\n",
    "\n",
    "\n",
    "foreach (var file in validFiles)\n",
    "{\n",
    "    var client = new HttpClient();\n",
    "    var url = \"https://api.replicate.com/v1/predictions\";\n",
    "    var imageUrl = \"image uploaded somehwere\";\n",
    "    var json = @\"{\n",
    "    \"\"version\"\": \"\"5bcfe11066c820e8c08232c6efa3c8a7ab2cd667ad136ca173633f352170691e\"\",\n",
    "    \"\"input\"\": {\n",
    "      \"\"seed\"\": 123,\n",
    "      \"\"image\"\": \"\"\" + imageUrl + @\"\"\",\n",
    "      \"\"scale\"\": 2,\n",
    "      \"\"sigma\"\": 0.8,\n",
    "      \"\"prompt\"\": \"\"videogame rendered human+++ martial arts fighter, fine details, texture+++, rendering, 3D, fighting pose\"\",\n",
    "      \"\"stride\"\": 64,\n",
    "      \"\"auto_prompt\"\": true,\n",
    "      \"\"multi_decoder\"\": false,\n",
    "      \"\"cosine_scale_1\"\": 3,\n",
    "      \"\"cosine_scale_2\"\": 1,\n",
    "      \"\"cosine_scale_3\"\": 1,\n",
    "      \"\"guidance_scale\"\": 18,\n",
    "      \"\"negative_prompt\"\": \"\"blurry, ugly, duplicate, poorly drawn, deformed, mosaic, anime, pixelated, cartoon, low resolution, low quality, low res, low resolution, low\"\",\n",
    "      \"\"view_batch_size\"\": 16,\n",
    "      \"\"num_inference_steps\"\": 40\n",
    "    }\n",
    "}\";\n",
    "    var data = new StringContent(json, Encoding.UTF8, \"application/json\");\n",
    "    client.DefaultRequestHeaders.Add(\"Authorization\", \"Token YOURTOKEN\");\n",
    "    var response = await client.PostAsync(url, data);\n",
    "    var result = await response.Content.ReadAsStringAsync();\n",
    "\n",
    "    JsonNode prediction = JsonSerializer.Deserialize<JsonNode>(result);\n",
    "    var id = prediction[\"id\"].GetValue<string>();\n",
    "\n",
    "    predictions.Add((file, id));\n",
    "}\n",
    "\n",
    "await Task.Delay(100000);\n",
    "\n",
    "while (output.Count < predictions.Count)\n",
    "{\n",
    "    foreach (var prediction in predictions)\n",
    "    {\n",
    "        try\n",
    "        {\n",
    "            if (output.Any(x => x.file == prediction.filename))\n",
    "            {\n",
    "                continue;\n",
    "            }\n",
    "            var client = new HttpClient();\n",
    "            var url = \"https://api.replicate.com/v1/predictions\";\n",
    "            client.DefaultRequestHeaders.Add(\"Authorization\", \"Token YOURTOKEN\");\n",
    "            var response = await client.GetAsync(url + \"/\" + prediction.id);\n",
    "            var json = await response.Content.ReadAsStringAsync();\n",
    "            var result = JsonSerializer.Deserialize<JsonNode>(json);\n",
    "            var status = result[\"status\"].GetValue<string>();\n",
    "            var outputnode = result[\"output\"].GetValue<string>();\n",
    "            if (status == \"succeeded\")\n",
    "            {\n",
    "                output.Add((outputnode, prediction.filename));\n",
    "            }\n",
    "        }\n",
    "        catch (Exception ex)\n",
    "        {\n",
    "            Console.WriteLine(ex.Message);\n",
    "        }\n",
    "        await Task.Delay(10000);\n",
    "\n",
    "    }\n",
    "\n",
    "}\n",
    "\n",
    "// save output to file\n",
    "var outputprint = output.Select(x => x.result + \" \" + x.file).ToList();\n",
    "File.WriteAllText(basePath + \"replicate\\\\output\\\\output.json\", JsonSerializer.Serialize(outputprint));\n",
    "\n",
    "foreach (var item in output)\n",
    "{\n",
    "    var client = new HttpClient();\n",
    "    var url = item.result;\n",
    "    var response = await client.GetAsync(url);\n",
    "    var bytes = await response.Content.ReadAsByteArrayAsync();\n",
    "    var path = basePath + \"replicate\\\\output\";\n",
    "    File.WriteAllBytes(Path.Combine(path, Path.GetFileName(item.file)), bytes);\n",
    "}\n",
    "\n",
    "\n",
    "System.Console.WriteLine(\"Done\");"
   ]
  },
  {
   "cell_type": "markdown",
   "metadata": {},
   "source": [
    "### combined upscaled sprites to spritesheets"
   ]
  },
  {
   "cell_type": "code",
   "execution_count": null,
   "metadata": {
    "dotnet_interactive": {
     "language": "csharp"
    },
    "polyglot_notebook": {
     "kernelName": "csharp"
    },
    "vscode": {
     "languageId": "polyglot-notebook"
    }
   },
   "outputs": [],
   "source": [
    "var upscaled = Directory.GetFiles(basePath + @\"enhanced\", \"*.png\", SearchOption.AllDirectories).Where(f => f.Contains(\"____\")).ToList();\n",
    "\n",
    "var resize = false;\n",
    "var upscaleFactor = 4;\n",
    "if(!resize)\n",
    "{\n",
    "    upscaleFactor = 1;\n",
    "}\n",
    "var border = 1.0f;\n",
    "allDatFiles.ToList().ForEach(file =>\n",
    "{   \n",
    "    var txtFile = Path.GetFileNameWithoutExtension(file) + \".txt\";\n",
    "    var lines = File.ReadAllLines(Path.Combine(\"txtdata\", txtFile));\n",
    "    var files = lines.Where(l => l.StartsWith(\"file(\")).ToList();\n",
    "    for (int i = 0; i < files.Count; i++)\n",
    "    {\n",
    "        var fileLine = files[i];\n",
    "        var fileLineParts = fileLine.Split(\" \", StringSplitOptions.RemoveEmptyEntries);\n",
    "        var fileName = fileLineParts[1];\n",
    "        var width = int.Parse(fileLineParts[3]) * upscaleFactor;\n",
    "        var height = int.Parse(fileLineParts[5]) * upscaleFactor;\n",
    "        var col = int.Parse(fileLineParts[7]);\n",
    "        var row = int.Parse(fileLineParts[9]);\n",
    "        var spriteFile = allSpriteFiles.FirstOrDefault(f => f.Contains(fileName));\n",
    "        if (spriteFile == null)\n",
    "        {\n",
    "            Console.WriteLine(\"Cannot find sprite file for \" + fileName);\n",
    "            continue;\n",
    "        }\n",
    "\n",
    "        var original = SKBitmap.Decode(spriteFile);\n",
    "        var result = new SKBitmap(original.Width * upscaleFactor, original.Height * upscaleFactor);\n",
    "        using var canvas = new SKCanvas(result);\n",
    "        canvas.Clear(SKColors.Black);\n",
    "        for (int r = 0; r < row; r++)\n",
    "        {\n",
    "            for (int c = 0; c < col; c++)\n",
    "            {\n",
    "                var upscaledFile = upscaled.FirstOrDefault(f => f == Path.Combine(\"enhanced\", Path.GetFileNameWithoutExtension(fileName) + \"____\" + r + \"-\" + c + \".png\"));\n",
    "                var sprite = upscaled.FirstOrDefault(f => f == upscaledFile);\n",
    "                var rect = new SKRect(c * width + c * border, r * height + r * border, (c + 1) * width + c * border, (r + 1) * height + r * border);\n",
    "\n",
    "                if (sprite != null)\n",
    "                {\n",
    "                    if(resize)\n",
    "                    {\n",
    "                        var spriteBitmap = SKBitmap.Decode(sprite);\n",
    "                        var scaledBitmap = new SKBitmap(spriteBitmap.Width / upscaleFactor, spriteBitmap.Height / upscaleFactor);\n",
    "                        var scaled = spriteBitmap.ScalePixels(scaledBitmap, SKFilterQuality.High);\n",
    "                        canvas.DrawBitmap(scaledBitmap, rect);\n",
    "                    }\n",
    "                    else\n",
    "                    {\n",
    "                        var spriteBitmap = SKBitmap.Decode(sprite);\n",
    "                        canvas.DrawBitmap(spriteBitmap, new SKRect(0, 0, width, height), rect);\n",
    "                    }\n",
    "                }\n",
    "                else\n",
    "                {\n",
    "                    canvas.DrawRect(rect, new SKPaint() { Color = SKColors.Black });\n",
    "                }\n",
    "            }\n",
    "        }\n",
    "\n",
    "\n",
    "        Directory.CreateDirectory(\"result\");\n",
    "        Directory.CreateDirectory(Path.Combine(\"result\", \"sprite\"));\n",
    "        Directory.CreateDirectory(Path.Combine(\"result\", \"sprite\", \"sys\"));\n",
    "        Directory.CreateDirectory(Path.Combine(\"result\", \"sprite\", \"template\"));\n",
    "\n",
    "        var resultPath = file.Contains(\"template\") ? Path.Combine(\"result\", \"sprite\", \"template\", Path.GetFileNameWithoutExtension(fileName) + \".png\") : Path.Combine(\"result\", \"sprite\", \"sys\", Path.GetFileNameWithoutExtension(fileName) + \".png\");\n",
    "\n",
    "        using (var fs = File.OpenWrite(Path.Combine(resultPath)))\n",
    "        {\n",
    "            result.Encode(SKEncodedImageFormat.Png, 100).SaveTo(fs);\n",
    "        }\n",
    "    }\n",
    "});"
   ]
  },
  {
   "cell_type": "markdown",
   "metadata": {},
   "source": [
    "### replace original sprites with upscaled sprites"
   ]
  },
  {
   "cell_type": "code",
   "execution_count": 10,
   "metadata": {
    "dotnet_interactive": {
     "language": "csharp"
    },
    "polyglot_notebook": {
     "kernelName": "csharp"
    },
    "vscode": {
     "languageId": "polyglot-notebook"
    }
   },
   "outputs": [],
   "source": [
    "var outputSprites = Directory.GetFiles(basePath + @\"output\", \"*.bmp\", SearchOption.AllDirectories);\n",
    "allSpriteFiles.ToList().ForEach(file =>\n",
    "{\n",
    "    var filename = Path.GetFileNameWithoutExtension(file);\n",
    "    var outputSprite = outputSprites.FirstOrDefault(f => f.Contains(filename));\n",
    "    \n",
    "    if(outputSprite != null)\n",
    "    {\n",
    "        File.Copy(outputSprite, file, true);\n",
    "    }\n",
    "});"
   ]
  },
  {
   "cell_type": "markdown",
   "metadata": {},
   "source": [
    "to be continued..."
   ]
  }
 ],
 "metadata": {
  "kernelspec": {
   "display_name": "Python 3",
   "language": "python",
   "name": "python3"
  },
  "language_info": {
   "name": "python",
   "version": "3.10.6"
  },
  "polyglot_notebook": {
   "kernelInfo": {
    "defaultKernelName": "csharp",
    "items": [
     {
      "aliases": [],
      "languageName": "csharp",
      "name": "csharp"
     }
    ]
   }
  }
 },
 "nbformat": 4,
 "nbformat_minor": 2
}
